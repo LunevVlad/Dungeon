{
 "cells": [
  {
   "cell_type": "markdown",
   "metadata": {},
   "source": [
    "# Homework"
   ]
  },
  {
   "cell_type": "markdown",
   "metadata": {},
   "source": [
    "Book(id, author, title, publish_year)\n",
    "\n",
    "Reader(id, name)\n",
    "\n",
    "Record(reader_id, book_id, taking_date, returning_date)\n",
    "\n",
    "В табличку Record можно добавить и отдельный ID. \n",
    "\n",
    "А reader_id и book_id — внешние ключи, которые ссылаются на таблицы Reader и Book соответственно."
   ]
  },
  {
   "cell_type": "markdown",
   "metadata": {},
   "source": [
    "Вывести список книг\n",
    "\n",
    "Вывести список читателей\n",
    "\n",
    "Добавить книгу.\n",
    "\n",
    "Добавить читателя.\n",
    "\n",
    "Выдать книгу читателю\n",
    "\n",
    "Принять книгу."
   ]
  },
  {
   "cell_type": "code",
   "execution_count": 1,
   "metadata": {},
   "outputs": [],
   "source": [
    "import sqlite3\n",
    "import datetime\n",
    "def get_timestamp(y,m,d):\n",
    "    return datetime.datetime.timestamp(datetime.datetime(y,m,d))\n",
    "def get_date(tmstmp):\n",
    "    return datetime.datetime.fromtimestamp(tmstmp).date()\n",
    "with sqlite3.connect(r'bibliot.db') as db:\n",
    "    cursor = db.cursor()\n",
    "    query ='''CREATE TABLE IF NOT EXISTS Book(\n",
    "        id INT PRIMARY KEY NOT NULL,\n",
    "        title TEXT,\n",
    "        author TEXT,\n",
    "        publish_year INT)'''\n",
    "    cursor.execute(query)\n",
    "    db.commit()"
   ]
  },
  {
   "cell_type": "code",
   "execution_count": 2,
   "metadata": {},
   "outputs": [],
   "source": [
    "with sqlite3.connect(r'bibliot.db') as db:\n",
    "    cursor = db.cursor()\n",
    "    cursor.execute(\n",
    "    '''\n",
    "    CREATE TABLE IF NOT EXISTS Reader(\n",
    "        id INT PRIMARY KEY NOT NULL,\n",
    "        name TEXT\n",
    "    )\n",
    "    '''\n",
    ")\n",
    "    db.commit()"
   ]
  },
  {
   "cell_type": "code",
   "execution_count": 3,
   "metadata": {},
   "outputs": [],
   "source": [
    "with sqlite3.connect(r'bibliot.db') as db:\n",
    "    cursor = db.cursor()\n",
    "    cursor.execute(\n",
    "    '''\n",
    "    INSERT INTO Book VALUES\n",
    "    (1, 'Harry Potter and the Philosopher''s Stone', 'J. K. Rowling', 1997),\n",
    "    (2, 'Методы решения задач в общем курсе физики, Механика', 'Корявов В.П.', 2007),\n",
    "    (3, 'Batman: Gotham by Gaslight', 'Brian Augustyn, Mike Mignola', 1989),\n",
    "    (4, 'Мёртвые души', 'Н. В. Гоголь', 1842),\n",
    "    (5, 'The Running Man', 'Richard Bachman', 1982)\n",
    "    '''\n",
    ")\n",
    "    db.commit()"
   ]
  },
  {
   "cell_type": "code",
   "execution_count": 4,
   "metadata": {},
   "outputs": [],
   "source": [
    "with sqlite3.connect(r'bibliot.db') as db:\n",
    "    cursor = db.cursor()   \n",
    "    cursor.execute(\n",
    "    '''\n",
    "    INSERT INTO Reader VALUES\n",
    "    (1, 'V.V. Petrovich'),\n",
    "    (2, 'Alexanderr'),\n",
    "    (3, 'Arkadiy Svidrigaylov'),\n",
    "    (4, 'Vitalya'),\n",
    "    (5, 'Noname')\n",
    "    '''\n",
    ")\n",
    "    db.commit()"
   ]
  },
  {
   "cell_type": "code",
   "execution_count": 26,
   "metadata": {},
   "outputs": [],
   "source": [
    "with sqlite3.connect(r'bibliot.db') as db:\n",
    "    cursor = db.cursor()\n",
    "    cursor.execute(\n",
    "    '''\n",
    "    CREATE TABLE IF NOT EXISTS Record(\n",
    "        id INT PRIMARY KEY NOT NULL,\n",
    "        reader_id INT REFERENCES Reader(id) NOT NULL,\n",
    "        book_id INT REFERENCES Book(id) NOT NULL,\n",
    "        taking_date TEXT,\n",
    "        returning_date TEXT\n",
    "    )\n",
    "    '''\n",
    ")\n",
    "    db.commit()"
   ]
  },
  {
   "cell_type": "code",
   "execution_count": 6,
   "metadata": {},
   "outputs": [],
   "source": [
    "with sqlite3.connect(r'bibliot.db') as db:\n",
    "    cursor = db.cursor()\n",
    "    cursor.execute(\n",
    "    '''\n",
    "    INSERT INTO Record VALUES\n",
    "    (1, 3, 4, '1842-02-14', '1842-07-01'),\n",
    "    (2, 4, 4, '1996-10-26', NULL),\n",
    "    (3, 1, 2, '2006-06-13', '2006-06-14'),\n",
    "    (4, 1, 1, '2006-06-14', '2006-06-15'),\n",
    "    (5, 1, 3, '2006-06-15', '2006-07-20'),\n",
    "    (6, 2, 5, '1985-10-11', '1987-12-25'),\n",
    "    (7, 5, 3, '2001-03-15', NULL),\n",
    "    (8, 5, 3, '2002-09-19', '2002-09-25')\n",
    "    '''\n",
    ")\n",
    "    db.commit()"
   ]
  },
  {
   "cell_type": "code",
   "execution_count": 2,
   "metadata": {},
   "outputs": [
    {
     "name": "stdout",
     "output_type": "stream",
     "text": [
      "Harry Potter and the Philosopher's Stone\n",
      "Методы решения задач в общем курсе физики, Механика\n",
      "Batman: Gotham by Gaslight\n",
      "Мёртвые души\n",
      "The Running Man\n",
      "Shrek\n"
     ]
    }
   ],
   "source": [
    "def booklist():\n",
    "    with sqlite3.connect(r'bibliot.db') as db:\n",
    "        cursor = db.cursor()\n",
    "        for row in cursor.execute(\"\"\" SELECT title from Book \"\"\"):\n",
    "            print(row[0])\n",
    "        db.commit()\n",
    "booklist()"
   ]
  },
  {
   "cell_type": "code",
   "execution_count": 22,
   "metadata": {},
   "outputs": [],
   "source": [
    "def readerlist():\n",
    "     with sqlite3.connect(r'bibliot.db') as db:\n",
    "        cursor = db.cursor()\n",
    "        for row in cursor.execute(\"\"\" SELECT name from Reader \"\"\"):\n",
    "            print(row[0])\n",
    "        db.commit()"
   ]
  },
  {
   "cell_type": "code",
   "execution_count": 27,
   "metadata": {
    "scrolled": true
   },
   "outputs": [
    {
     "name": "stdout",
     "output_type": "stream",
     "text": [
      "Harry Potter and the Philosopher's Stone\n",
      "Методы решения задач в общем курсе физики, Механика\n",
      "Batman: Gotham by Gaslight\n",
      "Мёртвые души\n",
      "The Running Man\n",
      "Shrek\n",
      "Shrek\n",
      "Ongliyskii\n",
      "Ongliyskii\n",
      "Comp_math\n",
      "Bicycle\n",
      "Как делать идеальную яичницу,чтобы не пригорала\n",
      "None\n"
     ]
    }
   ],
   "source": [
    "def insertbook(book_id, book, author, date):\n",
    "    try:\n",
    "        with sqlite3.connect(r'bibliot.db') as db:\n",
    "            cursor = db.cursor()\n",
    "            cursor.execute( 'INSERT INTO Book(id, title, author, publish_year) VALUES(?,?,?,?)', (book_id, book, author, date))\n",
    "            db.commit()\n",
    "    except sqlite3.IntegrityError:\n",
    "            print(f'Cant add {book} twice')\n",
    "insertbook(12 ,'Как делать идеальную яичницу,чтобы не пригорала', 'Гордон Рамзи', 2005)\n",
    "print(booklist())"
   ]
  },
  {
   "cell_type": "code",
   "execution_count": 25,
   "metadata": {},
   "outputs": [
    {
     "name": "stdout",
     "output_type": "stream",
     "text": [
      "V.V. Petrovich\n",
      "Alexanderr\n",
      "Arkadiy Svidrigaylov\n",
      "Vitalya\n",
      "Noname\n",
      "Masha\n",
      "None\n"
     ]
    }
   ],
   "source": [
    "def insertreader(reader_id, reader):\n",
    "    try:\n",
    "        with sqlite3.connect(r'bibliot.db') as db:\n",
    "            cursor = db.cursor()\n",
    "            cursor.execute( 'INSERT INTO Reader(id, name) VALUES(?,?)', (reader_id, reader))\n",
    "            db.commit()\n",
    "    except sqlite3.IntegrityError:\n",
    "            print(f'Cant add {reader} twice')\n",
    "insertreader(6 ,'Masha')\n",
    "print(readerlist())"
   ]
  },
  {
   "cell_type": "code",
   "execution_count": 28,
   "metadata": {},
   "outputs": [],
   "source": [
    "def givebook(rec_id,book_id, reader_id, taking_date):\n",
    "    try:\n",
    "        with sqlite3.connect(r'bibliot.db') as db:\n",
    "            cursor = db.cursor()\n",
    "            cursor.execute( 'INSERT INTO Record(id, book_id, reader_id, taking_date) VALUES(?, ?, ?, ?)', \n",
    "                           (rec_id, reader_id, book_id, taking_date))\n",
    "            cursor.execute()\n",
    "            db.commit()\n",
    "    except sqlite3.IntegrityError:\n",
    "        print(f'Cant give book twice')\n",
    "givebook(9, 12, 6, '2021-04-27')\n"
   ]
  },
  {
   "cell_type": "code",
   "execution_count": 31,
   "metadata": {},
   "outputs": [],
   "source": [
    " def takebook(rec_id,book_id, reader_id, returning_date):\n",
    "        try:\n",
    "            with sqlite3.connect(r'bibliot.db') as db:\n",
    "                cursor = db.cursor()\n",
    "                cursor.execute( 'INSERT INTO Record(id, book_id, reader_id, returning_date) VALUES(?, ?, ?, ?)', \n",
    "                           (rec_id, reader_id, book_id, returning_date))\n",
    "                db.commit()\n",
    "        except sqlite3.IntegrityError:\n",
    "            print(f'Cant take book twice')\n",
    "takebook(10, 12, 6, '2021-04-28')"
   ]
  },
  {
   "cell_type": "code",
   "execution_count": null,
   "metadata": {},
   "outputs": [],
   "source": []
  }
 ],
 "metadata": {
  "kernelspec": {
   "display_name": "Python 3",
   "language": "python",
   "name": "python3"
  },
  "language_info": {
   "codemirror_mode": {
    "name": "ipython",
    "version": 3
   },
   "file_extension": ".py",
   "mimetype": "text/x-python",
   "name": "python",
   "nbconvert_exporter": "python",
   "pygments_lexer": "ipython3",
   "version": "3.8.0"
  }
 },
 "nbformat": 4,
 "nbformat_minor": 4
}
